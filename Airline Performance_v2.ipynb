{
 "cells": [
  {
   "cell_type": "markdown",
   "metadata": {},
   "source": [
    "# Newark Airport Performance\n",
    "## Author: Kleen, Eric M."
   ]
  },
  {
   "cell_type": "markdown",
   "metadata": {},
   "source": [
    "#### The dataset for this analysis comes from the US Dept of Transportation website:\n",
    "https://www.transtats.bts.gov/DL_SelectFields.asp?Table_ID=237"
   ]
  },
  {
   "cell_type": "markdown",
   "metadata": {},
   "source": [
    "# Overview"
   ]
  },
  {
   "cell_type": "markdown",
   "metadata": {},
   "source": [
    "Because it is the holiday season and there is typically a lot of travel during this time of year, I wanted to analyze the performance of air travel into and out of Newark Liberty Airport. Ultimately, I wanted to develop a binary classification model which would determine he probability of a flight being delayed/cancelled based on historical data.  The steps below follow the CRISP-DM process to develop this model."
   ]
  },
  {
   "cell_type": "markdown",
   "metadata": {},
   "source": [
    "# 1) Understanding the Business"
   ]
  },
  {
   "cell_type": "markdown",
   "metadata": {},
   "source": [
    "In order to develop the model, I first explored the following questions to understand the business I was attempting to model."
   ]
  },
  {
   "cell_type": "markdown",
   "metadata": {},
   "source": [
    "#### - Q1: What is the overall rate of delayed/cancelled flights departing EWR?\n",
    "#### - Q2: What is the rate of delayed/cancelled flights departing EWR for each airline?\n",
    "#### - Q3: Which airlines have the most flights and therefore the most influence on the overall delay rate?\n",
    "#### - Q4: Is there monthly/weekly/daily seasonality?"
   ]
  },
  {
   "cell_type": "markdown",
   "metadata": {},
   "source": [
    "# 2) Understanding the Data"
   ]
  },
  {
   "cell_type": "code",
   "execution_count": 1,
   "metadata": {},
   "outputs": [],
   "source": [
    "#import libraries\n",
    "import pandas as pd\n",
    "import os\n",
    "from os import listdir, path\n",
    "import matplotlib.pyplot as plt\n",
    "%matplotlib inline\n",
    "\n",
    "#Define folder paths\n",
    "root_folder = os.getcwd()\n",
    "data_folder = path.join(root_folder, \"Data Files\")\n",
    "lookup_folder = path.join(root_folder, \"Lookup Files\")"
   ]
  },
  {
   "cell_type": "markdown",
   "metadata": {},
   "source": [
    "### Step 1: Review the published documentation"
   ]
  },
  {
   "cell_type": "code",
   "execution_count": 2,
   "metadata": {},
   "outputs": [
    {
     "data": {
      "text/html": [
       "<div>\n",
       "<style scoped>\n",
       "    .dataframe tbody tr th:only-of-type {\n",
       "        vertical-align: middle;\n",
       "    }\n",
       "\n",
       "    .dataframe tbody tr th {\n",
       "        vertical-align: top;\n",
       "    }\n",
       "\n",
       "    .dataframe thead th {\n",
       "        text-align: right;\n",
       "    }\n",
       "</style>\n",
       "<table border=\"1\" class=\"dataframe\">\n",
       "  <thead>\n",
       "    <tr style=\"text-align: right;\">\n",
       "      <th></th>\n",
       "      <th>Column</th>\n",
       "      <th>Type</th>\n",
       "      <th>Description</th>\n",
       "    </tr>\n",
       "  </thead>\n",
       "  <tbody>\n",
       "    <tr>\n",
       "      <td>0</td>\n",
       "      <td>Year</td>\n",
       "      <td>int64</td>\n",
       "      <td>Year</td>\n",
       "    </tr>\n",
       "    <tr>\n",
       "      <td>1</td>\n",
       "      <td>Quarter</td>\n",
       "      <td>int64</td>\n",
       "      <td>Quarter (1-4)</td>\n",
       "    </tr>\n",
       "    <tr>\n",
       "      <td>2</td>\n",
       "      <td>Month</td>\n",
       "      <td>int64</td>\n",
       "      <td>Month</td>\n",
       "    </tr>\n",
       "    <tr>\n",
       "      <td>3</td>\n",
       "      <td>DayofMonth</td>\n",
       "      <td>int64</td>\n",
       "      <td>Day of Month</td>\n",
       "    </tr>\n",
       "    <tr>\n",
       "      <td>4</td>\n",
       "      <td>DayOfWeek</td>\n",
       "      <td>int64</td>\n",
       "      <td>Day of Week</td>\n",
       "    </tr>\n",
       "    <tr>\n",
       "      <td>5</td>\n",
       "      <td>FlightDate</td>\n",
       "      <td>object</td>\n",
       "      <td>Flight Date (yyyymmdd)</td>\n",
       "    </tr>\n",
       "    <tr>\n",
       "      <td>6</td>\n",
       "      <td>UniqueCarrier</td>\n",
       "      <td>object</td>\n",
       "      <td>Unique Carrier Code. When the same code has be...</td>\n",
       "    </tr>\n",
       "    <tr>\n",
       "      <td>7</td>\n",
       "      <td>AirlineID</td>\n",
       "      <td>int64</td>\n",
       "      <td>An identification number assigned by US DOT to...</td>\n",
       "    </tr>\n",
       "    <tr>\n",
       "      <td>8</td>\n",
       "      <td>Carrier</td>\n",
       "      <td>object</td>\n",
       "      <td>Code assigned by IATA and commonly used to ide...</td>\n",
       "    </tr>\n",
       "    <tr>\n",
       "      <td>9</td>\n",
       "      <td>TailNum</td>\n",
       "      <td>object</td>\n",
       "      <td>Tail Number</td>\n",
       "    </tr>\n",
       "  </tbody>\n",
       "</table>\n",
       "</div>"
      ],
      "text/plain": [
       "          Column    Type                                        Description\n",
       "0           Year   int64                                               Year\n",
       "1        Quarter   int64                                      Quarter (1-4)\n",
       "2          Month   int64                                              Month\n",
       "3     DayofMonth   int64                                       Day of Month\n",
       "4      DayOfWeek   int64                                        Day of Week\n",
       "5     FlightDate  object                             Flight Date (yyyymmdd)\n",
       "6  UniqueCarrier  object  Unique Carrier Code. When the same code has be...\n",
       "7      AirlineID   int64  An identification number assigned by US DOT to...\n",
       "8        Carrier  object  Code assigned by IATA and commonly used to ide...\n",
       "9        TailNum  object                                        Tail Number"
      ]
     },
     "execution_count": 2,
     "metadata": {},
     "output_type": "execute_result"
    }
   ],
   "source": [
    "#Review the data profile sheet describing each column.  First 10 rows of profile sheet shown below.\n",
    "pd.read_excel(\"Source Data Profile.xlsx\", sheet_name=\"Profile\").head(10)"
   ]
  },
  {
   "cell_type": "markdown",
   "metadata": {},
   "source": [
    "### Step 2: Identify the desired columns and import the data"
   ]
  },
  {
   "cell_type": "code",
   "execution_count": 3,
   "metadata": {},
   "outputs": [],
   "source": [
    "#Define list of columns to be used for analysis\n",
    "cols = ['YEAR', 'MONTH', 'DAY_OF_MONTH', 'DAY_OF_WEEK', 'FL_DATE', \n",
    "        'MKT_UNIQUE_CARRIER', 'MKT_CARRIER_FL_NUM', 'TAIL_NUM', 'ORIGIN', 'DEST', \n",
    "        'CRS_DEP_TIME', 'DEP_TIME', 'DEP_DELAY', 'CRS_ARR_TIME', 'ARR_TIME', 'ARR_DELAY', \n",
    "        'CANCELLED', 'DISTANCE']"
   ]
  },
  {
   "cell_type": "code",
   "execution_count": 4,
   "metadata": {},
   "outputs": [
    {
     "name": "stdout",
     "output_type": "stream",
     "text": [
      "27761 rows imported from <2019-Apr.csv> and added to DataFrame.\n",
      "28721 rows imported from <2019-Aug.csv> and added to DataFrame.\n",
      "28112 rows imported from <2019-Dec.csv> and added to DataFrame.\n",
      "23894 rows imported from <2019-Feb.csv> and added to DataFrame.\n",
      "25878 rows imported from <2019-Jan.csv> and added to DataFrame.\n",
      "28378 rows imported from <2019-Jul.csv> and added to DataFrame.\n",
      "27468 rows imported from <2019-Jun.csv> and added to DataFrame.\n",
      "28024 rows imported from <2019-Mar.csv> and added to DataFrame.\n",
      "28099 rows imported from <2019-May.csv> and added to DataFrame.\n",
      "27069 rows imported from <2019-Nov.csv> and added to DataFrame.\n",
      "29198 rows imported from <2019-Oct.csv> and added to DataFrame.\n",
      "27279 rows imported from <2019-Sep.csv> and added to DataFrame.\n",
      "DataFrame contains 329881 rows and 18 columns.\n"
     ]
    }
   ],
   "source": [
    "#The data source contains monthly files.  Read each file and create a master DataFrame object.\n",
    "df = pd.DataFrame()\n",
    "lstFiles = [f for f in listdir(data_folder)]\n",
    "for f in lstFiles:\n",
    "    try:\n",
    "        df_in = pd.read_csv(path.join(data_folder, f), usecols=cols)\n",
    "        df = pd.concat([df, df_in], axis=0, sort=False)\n",
    "        print(\"{0} rows imported from <{1}> and added to DataFrame.\".format(df_in.shape[0], f))\n",
    "    except:\n",
    "        print(\"**Warning, an error occurred while importing file <{0}>\".format(f))\n",
    "print(\"DataFrame contains {0} rows and {1} columns.\".format(df.shape[0], df.shape[1]))"
   ]
  },
  {
   "cell_type": "markdown",
   "metadata": {},
   "source": [
    "### Step 3: Inspect the data"
   ]
  },
  {
   "cell_type": "code",
   "execution_count": 5,
   "metadata": {},
   "outputs": [
    {
     "name": "stdout",
     "output_type": "stream",
     "text": [
      "<class 'pandas.core.frame.DataFrame'>\n",
      "Int64Index: 329881 entries, 0 to 27278\n",
      "Data columns (total 18 columns):\n",
      "YEAR                  329881 non-null int64\n",
      "MONTH                 329881 non-null int64\n",
      "DAY_OF_MONTH          329881 non-null int64\n",
      "DAY_OF_WEEK           329881 non-null int64\n",
      "FL_DATE               329881 non-null object\n",
      "MKT_UNIQUE_CARRIER    329881 non-null object\n",
      "MKT_CARRIER_FL_NUM    329881 non-null int64\n",
      "TAIL_NUM              325803 non-null object\n",
      "ORIGIN                329881 non-null object\n",
      "DEST                  329881 non-null object\n",
      "CRS_DEP_TIME          329881 non-null int64\n",
      "DEP_TIME              319971 non-null float64\n",
      "DEP_DELAY             319971 non-null float64\n",
      "CRS_ARR_TIME          329881 non-null int64\n",
      "ARR_TIME              319466 non-null float64\n",
      "ARR_DELAY             318327 non-null float64\n",
      "CANCELLED             329881 non-null float64\n",
      "DISTANCE              329881 non-null float64\n",
      "dtypes: float64(6), int64(7), object(5)\n",
      "memory usage: 47.8+ MB\n"
     ]
    }
   ],
   "source": [
    "df.info()"
   ]
  },
  {
   "cell_type": "code",
   "execution_count": 6,
   "metadata": {},
   "outputs": [],
   "source": [
    "#Define categorical and numeric fields\n",
    "cat_list = ['YEAR', 'MONTH', 'DAY_OF_MONTH', 'DAY_OF_WEEK', 'FL_DATE', \n",
    "        'MKT_UNIQUE_CARRIER', 'MKT_CARRIER_FL_NUM', 'TAIL_NUM', 'ORIGIN', 'DEST', \n",
    "        'CRS_DEP_TIME', 'DEP_TIME', 'CRS_ARR_TIME', 'ARR_TIME',  \n",
    "        'CANCELLED']\n",
    "num_list = ['DEP_DELAY', 'ARR_DELAY', 'DISTANCE']"
   ]
  },
  {
   "cell_type": "code",
   "execution_count": 7,
   "metadata": {},
   "outputs": [
    {
     "data": {
      "text/plain": [
       "EWR    158827\n",
       "MCO      8122\n",
       "ATL      7038\n",
       "FLL      6028\n",
       "SFO      5803\n",
       "        ...  \n",
       "LEX        35\n",
       "HHH        35\n",
       "HDN        24\n",
       "RAP        22\n",
       "RNO         1\n",
       "Name: ORIGIN, Length: 99, dtype: int64"
      ]
     },
     "execution_count": 7,
     "metadata": {},
     "output_type": "execute_result"
    }
   ],
   "source": [
    "#This is analysis focuses on Newark (EWR) departures which is makes up the majority of the dataset\n",
    "df['ORIGIN'].value_counts()"
   ]
  },
  {
   "cell_type": "code",
   "execution_count": 8,
   "metadata": {},
   "outputs": [
    {
     "data": {
      "text/plain": [
       "0.0    319605\n",
       "1.0     10276\n",
       "Name: CANCELLED, dtype: int64"
      ]
     },
     "execution_count": 8,
     "metadata": {},
     "output_type": "execute_result"
    }
   ],
   "source": [
    "#There are over 10,000 total cancelled flights.  Every row contains either a '0' or '1'\n",
    "df['CANCELLED'].value_counts()"
   ]
  },
  {
   "cell_type": "code",
   "execution_count": 9,
   "metadata": {},
   "outputs": [
    {
     "data": {
      "text/plain": [
       "1.0    4078\n",
       "Name: CANCELLED, dtype: int64"
      ]
     },
     "execution_count": 9,
     "metadata": {},
     "output_type": "execute_result"
    }
   ],
   "source": [
    "#Investigate missing data.  Look at the data set where nulls occur and try to identify a reason for the\n",
    "#missing data and whether or not we can impute values using mode, mean, etc.\n",
    "\n",
    "#This is one example, I have identified that the TAIL_NUM field is only null for Cancelled flights, \n",
    "#but not all cancelled flights are null.\n",
    "df[df['TAIL_NUM'].isnull()]['CANCELLED'].value_counts()"
   ]
  },
  {
   "cell_type": "code",
   "execution_count": 10,
   "metadata": {},
   "outputs": [
    {
     "data": {
      "text/html": [
       "<div>\n",
       "<style scoped>\n",
       "    .dataframe tbody tr th:only-of-type {\n",
       "        vertical-align: middle;\n",
       "    }\n",
       "\n",
       "    .dataframe tbody tr th {\n",
       "        vertical-align: top;\n",
       "    }\n",
       "\n",
       "    .dataframe thead th {\n",
       "        text-align: right;\n",
       "    }\n",
       "</style>\n",
       "<table border=\"1\" class=\"dataframe\">\n",
       "  <thead>\n",
       "    <tr style=\"text-align: right;\">\n",
       "      <th></th>\n",
       "      <th>count</th>\n",
       "      <th>mean</th>\n",
       "      <th>std</th>\n",
       "      <th>min</th>\n",
       "      <th>25%</th>\n",
       "      <th>50%</th>\n",
       "      <th>75%</th>\n",
       "      <th>max</th>\n",
       "    </tr>\n",
       "  </thead>\n",
       "  <tbody>\n",
       "    <tr>\n",
       "      <td>DEP_DELAY</td>\n",
       "      <td>319971.0</td>\n",
       "      <td>21.723409</td>\n",
       "      <td>67.726724</td>\n",
       "      <td>-40.0</td>\n",
       "      <td>-6.0</td>\n",
       "      <td>-2.0</td>\n",
       "      <td>21.0</td>\n",
       "      <td>1839.0</td>\n",
       "    </tr>\n",
       "    <tr>\n",
       "      <td>ARR_DELAY</td>\n",
       "      <td>318327.0</td>\n",
       "      <td>16.946715</td>\n",
       "      <td>70.388196</td>\n",
       "      <td>-83.0</td>\n",
       "      <td>-16.0</td>\n",
       "      <td>-4.0</td>\n",
       "      <td>23.0</td>\n",
       "      <td>1844.0</td>\n",
       "    </tr>\n",
       "    <tr>\n",
       "      <td>DISTANCE</td>\n",
       "      <td>329881.0</td>\n",
       "      <td>986.652420</td>\n",
       "      <td>710.233654</td>\n",
       "      <td>143.0</td>\n",
       "      <td>488.0</td>\n",
       "      <td>748.0</td>\n",
       "      <td>1167.0</td>\n",
       "      <td>4962.0</td>\n",
       "    </tr>\n",
       "  </tbody>\n",
       "</table>\n",
       "</div>"
      ],
      "text/plain": [
       "              count        mean         std    min    25%    50%     75%  \\\n",
       "DEP_DELAY  319971.0   21.723409   67.726724  -40.0   -6.0   -2.0    21.0   \n",
       "ARR_DELAY  318327.0   16.946715   70.388196  -83.0  -16.0   -4.0    23.0   \n",
       "DISTANCE   329881.0  986.652420  710.233654  143.0  488.0  748.0  1167.0   \n",
       "\n",
       "              max  \n",
       "DEP_DELAY  1839.0  \n",
       "ARR_DELAY  1844.0  \n",
       "DISTANCE   4962.0  "
      ]
     },
     "execution_count": 10,
     "metadata": {},
     "output_type": "execute_result"
    }
   ],
   "source": [
    "#Review numerical values.\n",
    "df[num_list].describe().T"
   ]
  },
  {
   "cell_type": "markdown",
   "metadata": {},
   "source": [
    "### Step 4: Review lookup file."
   ]
  },
  {
   "cell_type": "code",
   "execution_count": 11,
   "metadata": {},
   "outputs": [
    {
     "data": {
      "text/html": [
       "<div>\n",
       "<style scoped>\n",
       "    .dataframe tbody tr th:only-of-type {\n",
       "        vertical-align: middle;\n",
       "    }\n",
       "\n",
       "    .dataframe tbody tr th {\n",
       "        vertical-align: top;\n",
       "    }\n",
       "\n",
       "    .dataframe thead th {\n",
       "        text-align: right;\n",
       "    }\n",
       "</style>\n",
       "<table border=\"1\" class=\"dataframe\">\n",
       "  <thead>\n",
       "    <tr style=\"text-align: right;\">\n",
       "      <th></th>\n",
       "      <th>Code</th>\n",
       "      <th>Description</th>\n",
       "    </tr>\n",
       "  </thead>\n",
       "  <tbody>\n",
       "    <tr>\n",
       "      <td>0</td>\n",
       "      <td>02Q</td>\n",
       "      <td>Titan Airways</td>\n",
       "    </tr>\n",
       "    <tr>\n",
       "      <td>1</td>\n",
       "      <td>04Q</td>\n",
       "      <td>Tradewind Aviation</td>\n",
       "    </tr>\n",
       "    <tr>\n",
       "      <td>2</td>\n",
       "      <td>05Q</td>\n",
       "      <td>Comlux Aviation, AG</td>\n",
       "    </tr>\n",
       "    <tr>\n",
       "      <td>3</td>\n",
       "      <td>06Q</td>\n",
       "      <td>Master Top Linhas Aereas Ltd.</td>\n",
       "    </tr>\n",
       "    <tr>\n",
       "      <td>4</td>\n",
       "      <td>07Q</td>\n",
       "      <td>Flair Airlines Ltd.</td>\n",
       "    </tr>\n",
       "    <tr>\n",
       "      <td>5</td>\n",
       "      <td>09Q</td>\n",
       "      <td>Swift Air, LLC d/b/a Eastern Air Lines d/b/a E...</td>\n",
       "    </tr>\n",
       "    <tr>\n",
       "      <td>6</td>\n",
       "      <td>0BQ</td>\n",
       "      <td>DCA</td>\n",
       "    </tr>\n",
       "    <tr>\n",
       "      <td>7</td>\n",
       "      <td>0CQ</td>\n",
       "      <td>ACM AIR CHARTER GmbH</td>\n",
       "    </tr>\n",
       "    <tr>\n",
       "      <td>8</td>\n",
       "      <td>0FQ</td>\n",
       "      <td>Maine Aviation Aircraft Charter, LLC</td>\n",
       "    </tr>\n",
       "    <tr>\n",
       "      <td>9</td>\n",
       "      <td>0GQ</td>\n",
       "      <td>Inter Island Airways, d/b/a Inter Island Air</td>\n",
       "    </tr>\n",
       "  </tbody>\n",
       "</table>\n",
       "</div>"
      ],
      "text/plain": [
       "  Code                                        Description\n",
       "0  02Q                                      Titan Airways\n",
       "1  04Q                                 Tradewind Aviation\n",
       "2  05Q                                Comlux Aviation, AG\n",
       "3  06Q                      Master Top Linhas Aereas Ltd.\n",
       "4  07Q                                Flair Airlines Ltd.\n",
       "5  09Q  Swift Air, LLC d/b/a Eastern Air Lines d/b/a E...\n",
       "6  0BQ                                                DCA\n",
       "7  0CQ                               ACM AIR CHARTER GmbH\n",
       "8  0FQ               Maine Aviation Aircraft Charter, LLC\n",
       "9  0GQ       Inter Island Airways, d/b/a Inter Island Air"
      ]
     },
     "execution_count": 11,
     "metadata": {},
     "output_type": "execute_result"
    }
   ],
   "source": [
    "#The dataset also includes a lookup file containing Airline names\n",
    "df_lu = pd.read_csv(path.join(lookup_folder, 'l_unique_carriers.csv'))\n",
    "df_lu.head(10)"
   ]
  },
  {
   "cell_type": "code",
   "execution_count": 12,
   "metadata": {},
   "outputs": [
    {
     "name": "stdout",
     "output_type": "stream",
     "text": [
      "<class 'pandas.core.frame.DataFrame'>\n",
      "RangeIndex: 1676 entries, 0 to 1675\n",
      "Data columns (total 2 columns):\n",
      "Code           1675 non-null object\n",
      "Description    1676 non-null object\n",
      "dtypes: object(2)\n",
      "memory usage: 26.3+ KB\n"
     ]
    }
   ],
   "source": [
    "#Inspecting the data reveals 1 null value in the Code column which is used to join the data so this needs to be looked into.\n",
    "df_lu.info()"
   ]
  },
  {
   "cell_type": "code",
   "execution_count": 13,
   "metadata": {},
   "outputs": [
    {
     "data": {
      "text/html": [
       "<div>\n",
       "<style scoped>\n",
       "    .dataframe tbody tr th:only-of-type {\n",
       "        vertical-align: middle;\n",
       "    }\n",
       "\n",
       "    .dataframe tbody tr th {\n",
       "        vertical-align: top;\n",
       "    }\n",
       "\n",
       "    .dataframe thead th {\n",
       "        text-align: right;\n",
       "    }\n",
       "</style>\n",
       "<table border=\"1\" class=\"dataframe\">\n",
       "  <thead>\n",
       "    <tr style=\"text-align: right;\">\n",
       "      <th></th>\n",
       "      <th>Code</th>\n",
       "      <th>Description</th>\n",
       "    </tr>\n",
       "  </thead>\n",
       "  <tbody>\n",
       "    <tr>\n",
       "      <td>1010</td>\n",
       "      <td>NaN</td>\n",
       "      <td>North American Airlines</td>\n",
       "    </tr>\n",
       "  </tbody>\n",
       "</table>\n",
       "</div>"
      ],
      "text/plain": [
       "     Code              Description\n",
       "1010  NaN  North American Airlines"
      ]
     },
     "execution_count": 13,
     "metadata": {},
     "output_type": "execute_result"
    }
   ],
   "source": [
    "#Looking at the original data file, the Code value for this row should be \"NA\" which is interpreted by Python as NaN.\n",
    "df_lu[df_lu['Code'].isnull()]"
   ]
  },
  {
   "cell_type": "code",
   "execution_count": 14,
   "metadata": {},
   "outputs": [
    {
     "data": {
      "text/html": [
       "<div>\n",
       "<style scoped>\n",
       "    .dataframe tbody tr th:only-of-type {\n",
       "        vertical-align: middle;\n",
       "    }\n",
       "\n",
       "    .dataframe tbody tr th {\n",
       "        vertical-align: top;\n",
       "    }\n",
       "\n",
       "    .dataframe thead th {\n",
       "        text-align: right;\n",
       "    }\n",
       "</style>\n",
       "<table border=\"1\" class=\"dataframe\">\n",
       "  <thead>\n",
       "    <tr style=\"text-align: right;\">\n",
       "      <th></th>\n",
       "      <th>Code</th>\n",
       "      <th>Description</th>\n",
       "    </tr>\n",
       "  </thead>\n",
       "  <tbody>\n",
       "  </tbody>\n",
       "</table>\n",
       "</div>"
      ],
      "text/plain": [
       "Empty DataFrame\n",
       "Columns: [Code, Description]\n",
       "Index: []"
      ]
     },
     "execution_count": 14,
     "metadata": {},
     "output_type": "execute_result"
    }
   ],
   "source": [
    "#Changing the 'keep_default_na' parameter allows Python to read the value \"NA\"\n",
    "df_lu = pd.read_csv(path.join(lookup_folder, 'l_unique_carriers.csv'), keep_default_na=False)\n",
    "df_lu[df_lu['Code'].isnull()]"
   ]
  },
  {
   "cell_type": "markdown",
   "metadata": {},
   "source": [
    "# 3) Preparing the Data"
   ]
  },
  {
   "cell_type": "markdown",
   "metadata": {},
   "source": [
    "### Step 1: Import the data"
   ]
  },
  {
   "cell_type": "code",
   "execution_count": 15,
   "metadata": {},
   "outputs": [],
   "source": [
    "#Define data types for each field (note: date fields will be parsed during read operation).\n",
    "cols = ['YEAR', 'MONTH', 'DAY_OF_MONTH', 'DAY_OF_WEEK', 'FL_DATE', \n",
    "        'MKT_UNIQUE_CARRIER', 'MKT_CARRIER_FL_NUM', 'TAIL_NUM', 'ORIGIN', 'DEST', \n",
    "        'CRS_DEP_TIME', 'DEP_TIME', 'DEP_DELAY', 'CRS_ARR_TIME', 'ARR_TIME', 'ARR_DELAY', \n",
    "        'CANCELLED', 'DISTANCE']\n",
    "types = {'YEAR':'int', 'MONTH':'int', 'DAY_OF_MONTH':'int', 'DAY_OF_WEEK':'int', \n",
    "         'MKT_UNIQUE_CARRIER':'str', 'MKT_CARRIER_FL_NUM':'str', 'TAIL_NUM':'str', 'ORIGIN':'str', \n",
    "         'DEST':'str', 'CRS_DEP_TIME':'str', 'DEP_TIME':'str', 'DEP_DELAY':'float', \n",
    "         'CRS_ARR_TIME':'str', 'ARR_TIME':'str', 'ARR_DELAY':'float', 'CANCELLED':'int', \n",
    "         'CANCELLATION_CODE':'str', 'DISTANCE':'float'}"
   ]
  },
  {
   "cell_type": "code",
   "execution_count": 16,
   "metadata": {},
   "outputs": [
    {
     "name": "stdout",
     "output_type": "stream",
     "text": [
      "DataFrame contains 317631 rows and 18 columns.\n"
     ]
    }
   ],
   "source": [
    "#Import the data using specified data types.\n",
    "#Data contains all NJ airports, but only flights in/out of Newark Liberty (EWR) are needed for this analysis.\n",
    "df_flts = pd.DataFrame()\n",
    "lstFiles = [f for f in listdir(data_folder)]\n",
    "for f in lstFiles:\n",
    "    try:\n",
    "        df_in = pd.read_csv(path.join(data_folder, f), usecols=cols, dtype=types, parse_dates=['FL_DATE'])\n",
    "        df_in = df_in[(df_in['ORIGIN']=='EWR') | (df_in['DEST']=='EWR')].copy()\n",
    "        df_flts = pd.concat([df_flts, df_in], axis=0, sort=False)\n",
    "    except:\n",
    "        print(\"**Warning, an error occurred while importing file <{0}>\".format(f))\n",
    "print(\"DataFrame contains {0} rows and {1} columns.\".format(df_flts.shape[0], df_flts.shape[1]))"
   ]
  },
  {
   "cell_type": "code",
   "execution_count": 17,
   "metadata": {},
   "outputs": [
    {
     "name": "stdout",
     "output_type": "stream",
     "text": [
      "DataFrame contains 1676 rows and 1 columns.\n"
     ]
    }
   ],
   "source": [
    "#Import the lookup file.\n",
    "f = 'l_unique_carriers.csv'\n",
    "try:\n",
    "    #Use 'keep_default_na=False' because one of the airline codes is 'NA'\n",
    "    df_lu = pd.read_csv(path.join(lookup_folder, f), keep_default_na=False, index_col=\"Code\")\n",
    "except:\n",
    "    print(\"**Warning, an error occurred while importing file <{0}>\".format(f))\n",
    "print(\"DataFrame contains {0} rows and {1} columns.\".format(df_lu.shape[0], df_lu.shape[1]))"
   ]
  },
  {
   "cell_type": "code",
   "execution_count": 18,
   "metadata": {},
   "outputs": [
    {
     "name": "stdout",
     "output_type": "stream",
     "text": [
      "<class 'pandas.core.frame.DataFrame'>\n",
      "Int64Index: 317631 entries, 0 to 27278\n",
      "Data columns (total 2 columns):\n",
      "MKT_UNIQUE_CARRIER    317631 non-null object\n",
      "CARRIER_NAME          317631 non-null object\n",
      "dtypes: object(2)\n",
      "memory usage: 7.3+ MB\n"
     ]
    }
   ],
   "source": [
    "#Join the airline name lookup table to the flight data.\n",
    "df_lu.rename({'Description':'CARRIER_NAME'}, axis=1, inplace=True)\n",
    "df = df_flts.join(df_lu, on='MKT_UNIQUE_CARRIER', how=\"left\")\n",
    "df[['MKT_UNIQUE_CARRIER', 'CARRIER_NAME']].info()"
   ]
  },
  {
   "cell_type": "markdown",
   "metadata": {},
   "source": [
    "### Step 2: Clean the data"
   ]
  },
  {
   "cell_type": "code",
   "execution_count": 19,
   "metadata": {},
   "outputs": [],
   "source": [
    "#Sort and re-index flight data\n",
    "df.sort_values(['FL_DATE', 'CRS_DEP_TIME', 'MKT_UNIQUE_CARRIER'], axis=0, inplace=True)\n",
    "df.reset_index(drop=True, inplace=True)\n",
    "\n",
    "#Arrange columns\n",
    "df = df[['YEAR', 'MONTH', 'DAY_OF_MONTH', 'DAY_OF_WEEK', 'FL_DATE',\n",
    "       'MKT_UNIQUE_CARRIER',  'CARRIER_NAME', 'MKT_CARRIER_FL_NUM', 'TAIL_NUM', 'ORIGIN',\n",
    "       'DEST', 'CRS_DEP_TIME', 'DEP_TIME', 'DEP_DELAY', 'CRS_ARR_TIME',\n",
    "       'ARR_TIME', 'ARR_DELAY', 'CANCELLED', 'DISTANCE']]"
   ]
  },
  {
   "cell_type": "code",
   "execution_count": 20,
   "metadata": {},
   "outputs": [
    {
     "name": "stdout",
     "output_type": "stream",
     "text": [
      "DataFrame contains 317631 rows and 22 columns.\n"
     ]
    }
   ],
   "source": [
    "#Remove all values fpr select fields in cancelled rows to standardize the data.\n",
    "mask = df['CANCELLED']==1\n",
    "clean_fields = ['TAIL_NUM', 'DEP_TIME', 'DEP_DELAY', 'ARR_TIME', 'ARR_DELAY']\n",
    "for c in clean_fields:\n",
    "    df.loc[mask, c]=None\n",
    "\n",
    "#Create a categorical field for flights with a departure delay at least 30 minutes, 0='False' and 1='True'\n",
    "df['DELAYED'] = 0\n",
    "df.loc[(df['DEP_DELAY']>=30), 'DELAYED'] = 1\n",
    "\n",
    "#Create a categorical field for flights with a departure delay at least 30 minutes OR cancelled, 0='False' and 1='True'\n",
    "df['DEL_CANC'] = 0\n",
    "df.loc[(df['DELAYED']==1) | (df['CANCELLED']==1), 'DEL_CANC'] = 1\n",
    "\n",
    "#Create a categorical field for flight departure time block (6hr blocks)\n",
    "def time_block(dep_time):\n",
    "    \"\"\"Return the 6-hr time block based on the departure time.\n",
    "    \n",
    "    Postional arguments:\n",
    "    dep_time -- departure time of flight\n",
    "    \"\"\"\n",
    "    if dep_time/100 < 6:\n",
    "        return \"00-06\"\n",
    "    elif dep_time/100 <12:\n",
    "        return \"06-12\"\n",
    "    elif dep_time/100 <18:\n",
    "        return \"12-18\"\n",
    "    elif dep_time/100 <=24:\n",
    "        return \"18-24\"\n",
    "df['DEP_BLOCK'] = df['CRS_DEP_TIME'].astype('int').apply(time_block)\n",
    "print(\"DataFrame contains {0} rows and {1} columns.\".format(df.shape[0], df.shape[1]))"
   ]
  },
  {
   "cell_type": "markdown",
   "metadata": {},
   "source": [
    "### Step 3: Explore the data"
   ]
  },
  {
   "cell_type": "code",
   "execution_count": 21,
   "metadata": {},
   "outputs": [],
   "source": [
    "#Create function to be used for data exploration.\n",
    "def f_del_flts(df_in, group_column, count_column, origin=\"EWR\"):\n",
    "    \"\"\"Return an aggregated Series object with the % of total values.\n",
    "    \n",
    "    Positional arguments:\n",
    "    df_in -- DataFrame object to aggregate\n",
    "    group_column -- Column name to be used as Group By\n",
    "    count_column -- Column name to be summarized\n",
    "    origin -- Origin airport (default='EWR')\n",
    "    \"\"\"\n",
    "    df_out = df_in[df_in['ORIGIN']==origin][[group_column, count_column]]\n",
    "    df_out = df_out.groupby([group_column]).agg(['count', 'sum'])\n",
    "    df_out = df_out[count_column]\n",
    "    df_out['%'] = round(df_out['sum']/df_out['count']*100, 0).astype('int')\n",
    "    return df_out['%']"
   ]
  },
  {
   "cell_type": "markdown",
   "metadata": {},
   "source": [
    "##### Q1) What is the overall rate of delayed/cancelled flights departing EWR?"
   ]
  },
  {
   "cell_type": "markdown",
   "metadata": {},
   "source": [
    "Analysis: On average, 2019 flights from EWR are delayed/cancelled about 22% of the time."
   ]
  },
  {
   "cell_type": "code",
   "execution_count": 22,
   "metadata": {},
   "outputs": [
    {
     "data": {
      "image/png": "[encoded data removed]",
      "text/plain": [
       "<Figure size 720x288 with 1 Axes>"
      ]
     },
     "metadata": {
      "needs_background": "light"
     },
     "output_type": "display_data"
    },
    {
     "data": {
      "text/html": [
       "<div>\n",
       "<style scoped>\n",
       "    .dataframe tbody tr th:only-of-type {\n",
       "        vertical-align: middle;\n",
       "    }\n",
       "\n",
       "    .dataframe tbody tr th {\n",
       "        vertical-align: top;\n",
       "    }\n",
       "\n",
       "    .dataframe thead th {\n",
       "        text-align: right;\n",
       "    }\n",
       "</style>\n",
       "<table border=\"1\" class=\"dataframe\">\n",
       "  <thead>\n",
       "    <tr style=\"text-align: right;\">\n",
       "      <th></th>\n",
       "      <th>FLIGHTS</th>\n",
       "      <th>%</th>\n",
       "    </tr>\n",
       "    <tr>\n",
       "      <th>DEL_CANC</th>\n",
       "      <th></th>\n",
       "      <th></th>\n",
       "    </tr>\n",
       "  </thead>\n",
       "  <tbody>\n",
       "    <tr>\n",
       "      <td>On-Time</td>\n",
       "      <td>123095</td>\n",
       "      <td>78</td>\n",
       "    </tr>\n",
       "    <tr>\n",
       "      <td>Del/Canc</td>\n",
       "      <td>35732</td>\n",
       "      <td>22</td>\n",
       "    </tr>\n",
       "  </tbody>\n",
       "</table>\n",
       "</div>"
      ],
      "text/plain": [
       "          FLIGHTS   %\n",
       "DEL_CANC             \n",
       "On-Time    123095  78\n",
       "Del/Canc    35732  22"
      ]
     },
     "execution_count": 22,
     "metadata": {},
     "output_type": "execute_result"
    }
   ],
   "source": [
    "mask = (df['ORIGIN']==\"EWR\")\n",
    "del_flts = df[mask][['DEL_CANC', 'MKT_CARRIER_FL_NUM']].copy().groupby(['DEL_CANC']).count()\n",
    "del_flts.rename({'MKT_CARRIER_FL_NUM':'FLIGHTS'}, inplace=True, axis=1)\n",
    "del_flts['%'] = round(del_flts['FLIGHTS']/len(df[mask])*100, 0).astype('int')\n",
    "del_flts.rename({0:'On-Time', 1:'Del/Canc'}, axis=0, inplace=True)\n",
    "plt.figure(figsize=[10,4])\n",
    "plt.title('EWR Departing Flight Delay/Cancellation Rate')\n",
    "plt.ylabel('% of Total Flights')\n",
    "plt.bar(del_flts.index, del_flts['%'])\n",
    "plt.show()\n",
    "del_flts"
   ]
  },
  {
   "cell_type": "markdown",
   "metadata": {},
   "source": [
    "##### Q2) What is the rate of delayed/cancelled flights departing EWR for each airline?"
   ]
  },
  {
   "cell_type": "markdown",
   "metadata": {},
   "source": [
    "Analysis: The delay rate by airline ranges from 8% to 30% with an average of 20%.  Frontier Airlines has the worst delay rate while Allegiant has the best."
   ]
  },
  {
   "cell_type": "code",
   "execution_count": 23,
   "metadata": {},
   "outputs": [
    {
     "data": {
      "image/png": "[encoded data removed]",
      "text/plain": [
       "<Figure size 1296x288 with 1 Axes>"
      ]
     },
     "metadata": {
      "needs_background": "light"
     },
     "output_type": "display_data"
    }
   ],
   "source": [
    "del_flts = f_del_flts(df.copy(), 'CARRIER_NAME', 'DEL_CANC').sort_values(ascending=False)\n",
    "plt.figure(figsize=[18,4])\n",
    "plt.title('Airline Departing Flight Delay/Cancellation Rates')\n",
    "plt.xlabel('Airline')\n",
    "plt.ylabel('% of Total Flights')\n",
    "plt.bar(del_flts.index, del_flts)\n",
    "plt.show()"
   ]
  },
  {
   "cell_type": "code",
   "execution_count": 24,
   "metadata": {},
   "outputs": [
    {
     "data": {
      "text/plain": [
       "count     9.00000\n",
       "mean     20.00000\n",
       "std       6.78233\n",
       "min       8.00000\n",
       "25%      17.00000\n",
       "50%      21.00000\n",
       "75%      24.00000\n",
       "max      30.00000\n",
       "Name: %, dtype: float64"
      ]
     },
     "execution_count": 24,
     "metadata": {},
     "output_type": "execute_result"
    }
   ],
   "source": [
    "del_flts.describe()"
   ]
  },
  {
   "cell_type": "markdown",
   "metadata": {},
   "source": [
    "##### Q3) Which airlines have the most flights and therefore the most influence on the overall delay rate?"
   ]
  },
  {
   "cell_type": "markdown",
   "metadata": {},
   "source": [
    "Analysis: By far, United Airlines has the most influence on the overall delay rate."
   ]
  },
  {
   "cell_type": "code",
   "execution_count": 25,
   "metadata": {},
   "outputs": [
    {
     "data": {
      "image/png": "[encoded data removed]",
      "text/plain": [
       "<Figure size 1296x432 with 1 Axes>"
      ]
     },
     "metadata": {
      "needs_background": "light"
     },
     "output_type": "display_data"
    }
   ],
   "source": [
    "mask = (df['ORIGIN']==\"EWR\")\n",
    "tot_flts = df[mask][['CARRIER_NAME', 'MKT_CARRIER_FL_NUM']].copy().groupby('CARRIER_NAME').count()\n",
    "tot_flts.rename({'MKT_CARRIER_FL_NUM':'FLIGHTS'}, inplace=True, axis=1)\n",
    "tot_flts.sort_values(by='FLIGHTS', ascending=False, inplace=True)\n",
    "plt.figure(figsize=[18,6])\n",
    "plt.title('2019 Flights Departing Newark Liberty Airport')\n",
    "plt.xlabel('Airline')\n",
    "plt.ylabel('Flights')\n",
    "plt.bar(tot_flts.index, tot_flts['FLIGHTS'])\n",
    "plt.show()"
   ]
  },
  {
   "cell_type": "markdown",
   "metadata": {},
   "source": [
    "##### Q4) Is there monthly/weekly/daily seasonality?"
   ]
  },
  {
   "cell_type": "markdown",
   "metadata": {},
   "source": [
    "Analysis:   \n",
    "Monthly Response: The months of Jun-Aug appear to have an increased chance of delay.  \n",
    "Weekly Response: Wed-Fri appear to have an increase chance of delay.  \n",
    "Daily Response: The 18-24 time block is by far the worst time to fly."
   ]
  },
  {
   "cell_type": "code",
   "execution_count": 26,
   "metadata": {
    "scrolled": true
   },
   "outputs": [
    {
     "data": {
      "image/png": "[encoded data removed]",
      "text/plain": [
       "<Figure size 1296x288 with 1 Axes>"
      ]
     },
     "metadata": {
      "needs_background": "light"
     },
     "output_type": "display_data"
    }
   ],
   "source": [
    "del_flts = f_del_flts(df.copy(), 'MONTH', 'DEL_CANC')\n",
    "plt.figure(figsize=[18,4])\n",
    "plt.title('Monthly Departing Flight Delay/Cancellation Rates')\n",
    "plt.xlabel('Month')\n",
    "plt.ylabel('% of Total Flights')\n",
    "plt.bar(del_flts.index, del_flts)\n",
    "plt.xticks(del_flts.index)\n",
    "plt.show()"
   ]
  },
  {
   "cell_type": "code",
   "execution_count": 27,
   "metadata": {},
   "outputs": [
    {
     "data": {
      "image/png": "[encoded data removed]",
      "text/plain": [
       "<Figure size 1296x288 with 1 Axes>"
      ]
     },
     "metadata": {
      "needs_background": "light"
     },
     "output_type": "display_data"
    }
   ],
   "source": [
    "del_flts = f_del_flts(df.copy(), 'DAY_OF_WEEK', 'DEL_CANC')\n",
    "plt.figure(figsize=[18,4])\n",
    "plt.title('Weekly Departing Flight Delay/Cancellation Rates')\n",
    "plt.xlabel('Day of Week (1=Mon)')\n",
    "plt.ylabel('% of Total Flights')\n",
    "plt.bar(del_flts.index, del_flts)\n",
    "plt.xticks(del_flts.index)\n",
    "plt.show()"
   ]
  },
  {
   "cell_type": "code",
   "execution_count": 28,
   "metadata": {},
   "outputs": [
    {
     "data": {
      "image/png": "[encoded data removed]",
      "text/plain": [
       "<Figure size 1296x288 with 1 Axes>"
      ]
     },
     "metadata": {
      "needs_background": "light"
     },
     "output_type": "display_data"
    }
   ],
   "source": [
    "del_flts = f_del_flts(df.copy(), 'DEP_BLOCK', 'DEL_CANC')\n",
    "del_flts = del_flts.reindex(['00-06', '06-12', '12-18', '18-24'])\n",
    "plt.figure(figsize=[18,4])\n",
    "plt.title('Daily Departing Flight Delay/Cancellation Rates')\n",
    "plt.xlabel('Time Block')\n",
    "plt.ylabel('% of Total Flights')\n",
    "plt.bar(del_flts.index, del_flts)\n",
    "plt.xticks(del_flts.index)\n",
    "plt.show()"
   ]
  },
  {
   "cell_type": "markdown",
   "metadata": {},
   "source": [
    "# 4) Modeling the Data"
   ]
  },
  {
   "cell_type": "code",
   "execution_count": 29,
   "metadata": {},
   "outputs": [],
   "source": [
    "#Import libraries\n",
    "from sklearn.ensemble import GradientBoostingClassifier\n",
    "from sklearn.model_selection import train_test_split\n",
    "from sklearn.preprocessing import OneHotEncoder\n",
    "from sklearn.compose import ColumnTransformer"
   ]
  },
  {
   "cell_type": "code",
   "execution_count": 30,
   "metadata": {},
   "outputs": [],
   "source": [
    "#Construct the datasets for features (X) and results (y)\n",
    "mask = (df['ORIGIN']==\"EWR\")\n",
    "X = df[mask][['CARRIER_NAME', 'MONTH', 'DAY_OF_WEEK', 'DEP_BLOCK']]\n",
    "y = df[mask]['DEL_CANC'] "
   ]
  },
  {
   "cell_type": "code",
   "execution_count": 31,
   "metadata": {},
   "outputs": [],
   "source": [
    "#Split total data set into Training (80%) and Test (20%) sets\n",
    "X_train, X_test, y_train, y_test = train_test_split(X, y, test_size=0.2, random_state=0)"
   ]
  },
  {
   "cell_type": "code",
   "execution_count": 32,
   "metadata": {},
   "outputs": [],
   "source": [
    "#Create transformer object to encode categorical variables\n",
    "ct = ColumnTransformer([(\"onehot\", OneHotEncoder(sparse=False, categories='auto'), \n",
    "                         ['CARRIER_NAME', 'MONTH', 'DAY_OF_WEEK', 'DEP_BLOCK'])], remainder='passthrough') \n",
    "\n",
    "#Encode categorical features to create \"dummy\" variables\n",
    "ct.fit(X)\n",
    "X_train_trans = ct.transform(X_train)\n",
    "X_test_trans = ct.transform(X_test)"
   ]
  },
  {
   "cell_type": "code",
   "execution_count": 33,
   "metadata": {},
   "outputs": [
    {
     "name": "stdout",
     "output_type": "stream",
     "text": [
      "Accuracy on training set: 0.778\n",
      "Accuracy on test set: 0.785\n"
     ]
    }
   ],
   "source": [
    "#Instantiate and fit the Gradient Boosting Classifier to the Training data set\n",
    "gbrt = GradientBoostingClassifier(random_state=0)\n",
    "gbrt.fit(X_train_trans, y_train)\n",
    "\n",
    "#Print accuracy results of model on both Training and Test sets.\n",
    "print(\"Accuracy on training set: {:.3f}\".format(gbrt.score(X_train_trans, y_train)))\n",
    "print(\"Accuracy on test set: {:.3f}\".format(gbrt.score(X_test_trans, y_test)))"
   ]
  },
  {
   "cell_type": "code",
   "execution_count": 34,
   "metadata": {},
   "outputs": [
    {
     "name": "stdout",
     "output_type": "stream",
     "text": [
      "Model predicts result of 'On-Time' with 79% certainty.\n"
     ]
    }
   ],
   "source": [
    "#Test my upcoming flight to determine probability that it will be delayed/cancelled.\n",
    "#Airline=United Air Lines Inc.; Month=11; DayOfWeek=2; Dep_Block=12-18.\n",
    "col = ['CARRIER_NAME', 'MONTH', 'DAY_OF_WEEK', 'DEP_BLOCK']\n",
    "flight = ['United Air Lines Inc.', 11, 2, '12-18']\n",
    "test = pd.DataFrame([flight], columns=col)\n",
    "test_trans = ct.transform(test)\n",
    "pred = gbrt.predict(test_trans)[0]\n",
    "prob = gbrt.predict_proba(test_trans)[0][pred]\n",
    "\n",
    "print(\"Model predicts result of '{0}' with {1}% certainty.\".format(['On-Time', 'Delayed'][pred], int(round(prob*100,0))))"
   ]
  },
  {
   "cell_type": "markdown",
   "metadata": {},
   "source": [
    "# 5) Evaluate the Results"
   ]
  },
  {
   "cell_type": "markdown",
   "metadata": {},
   "source": [
    "While it appears to be great that the model certainty is 79%, it's actually not impressive because the overall On-Time rate of all flights is 78%.  Using specific feature such as Airline, Month, Day of Week, and Time of Day we did gain an additional 1%.  I would like to continue evaluating additional features such as \"Destination\" and \"Holidays\" and \"Distance of Previous Leg by Tail Number\" to see if there are correlations that can further improve the model's ability to predict delayed flights."
   ]
  }
 ],
 "metadata": {
  "kernelspec": {
   "display_name": "Python 3",
   "language": "python",
   "name": "python3"
  },
  "language_info": {
   "codemirror_mode": {
    "name": "ipython",
    "version": 3
   },
   "file_extension": ".py",
   "mimetype": "text/x-python",
   "name": "python",
   "nbconvert_exporter": "python",
   "pygments_lexer": "ipython3",
   "version": "3.7.4"
  }
 },
 "nbformat": 4,
 "nbformat_minor": 2
}
